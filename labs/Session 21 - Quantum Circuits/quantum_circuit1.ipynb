{
 "cells": [
  {
   "cell_type": "code",
   "execution_count": 1,
   "id": "635e333e-805a-4eb0-a85a-bd5745deaabb",
   "metadata": {},
   "outputs": [
    {
     "data": {
      "image/png": "[encoded data removed]",
      "text/plain": [
       "<Figure size 454.719x367.889 with 1 Axes>"
      ]
     },
     "metadata": {},
     "output_type": "display_data"
    },
    {
     "ename": "KeyError",
     "evalue": "'statevector'",
     "output_type": "error",
     "traceback": [
      "\u001b[0;31m---------------------------------------------------------------------------\u001b[0m",
      "\u001b[0;31mKeyError\u001b[0m                                  Traceback (most recent call last)",
      "Cell \u001b[0;32mIn[1], line 37\u001b[0m\n\u001b[1;32m     34\u001b[0m result \u001b[38;5;241m=\u001b[39m backend\u001b[38;5;241m.\u001b[39mrun(qc_transpiled)\u001b[38;5;241m.\u001b[39mresult()\n\u001b[1;32m     36\u001b[0m \u001b[38;5;66;03m# Extracting state vectors after each barrier\u001b[39;00m\n\u001b[0;32m---> 37\u001b[0m sv1 \u001b[38;5;241m=\u001b[39m \u001b[43mresult\u001b[49m\u001b[38;5;241;43m.\u001b[39;49m\u001b[43mdata\u001b[49m\u001b[43m(\u001b[49m\u001b[38;5;241;43m0\u001b[39;49m\u001b[43m)\u001b[49m\u001b[43m[\u001b[49m\u001b[38;5;124;43m\"\u001b[39;49m\u001b[38;5;124;43mstatevector\u001b[39;49m\u001b[38;5;124;43m\"\u001b[39;49m\u001b[43m]\u001b[49m\n\u001b[1;32m     38\u001b[0m sv2 \u001b[38;5;241m=\u001b[39m result\u001b[38;5;241m.\u001b[39mdata(\u001b[38;5;241m1\u001b[39m)[\u001b[38;5;124m\"\u001b[39m\u001b[38;5;124mstatevector\u001b[39m\u001b[38;5;124m\"\u001b[39m]\n\u001b[1;32m     39\u001b[0m sv3 \u001b[38;5;241m=\u001b[39m result\u001b[38;5;241m.\u001b[39mdata(\u001b[38;5;241m2\u001b[39m)[\u001b[38;5;124m\"\u001b[39m\u001b[38;5;124mstatevector\u001b[39m\u001b[38;5;124m\"\u001b[39m]\n",
      "\u001b[0;31mKeyError\u001b[0m: 'statevector'"
     ]
    }
   ],
   "source": [
    "# quantum_circuit1.ipynb\n",
    "\n",
    "from IPython.display import display\n",
    "from qis102_utils import as_latex\n",
    "from qiskit import QuantumCircuit, transpile\n",
    "from qiskit.visualization import plot_distribution\n",
    "from qiskit_aer import AerSimulator\n",
    "\n",
    "# Cell 1\n",
    "qc = QuantumCircuit(3, 1)\n",
    "\n",
    "# X gate on q1\n",
    "qc.x(1)\n",
    "\n",
    "# H gate on q0\n",
    "qc.h(0)\n",
    "\n",
    "# CNOT (CX) gate with control q0 and target q1\n",
    "qc.cx(0, 1)\n",
    "\n",
    "# SWAP gate between q1 and q2\n",
    "qc.swap(1, 2)\n",
    "\n",
    "# Measure q1 to c0\n",
    "qc.measure(1, 0)\n",
    "\n",
    "# The rest of the code remains unchanged\n",
    "\n",
    "# Do not modify the following code\n",
    "display(qc.draw(output=\"mpl\"))\n",
    "\n",
    "backend = AerSimulator()\n",
    "qc_transpiled = transpile(qc, backend)\n",
    "result = backend.run(qc_transpiled).result()\n",
    "\n",
    "# Extracting state vectors after each barrier\n",
    "sv1 = result.data(0)[\"statevector\"]\n",
    "sv2 = result.data(1)[\"statevector\"]\n",
    "sv3 = result.data(2)[\"statevector\"]\n",
    "sv4 = result.data(3)[\"statevector\"]\n",
    "\n",
    "display(as_latex(sv1, prefix=r\"\\mathbf{Statevector\\;1}=\"))\n",
    "display(as_latex(sv2, prefix=r\"\\mathbf{Statevector\\;2}=\"))\n",
    "display(as_latex(sv3, prefix=r\"\\mathbf{Statevector\\;3}=\"))\n",
    "display(as_latex(sv4, prefix=r\"\\mathbf{Statevector\\;4}=\"))\n",
    "\n",
    "counts = result.get_counts(qc)\n",
    "display(plot_distribution(counts))\n"
   ]
  },
  {
   "cell_type": "code",
   "execution_count": 2,
   "id": "3fe9ba57",
   "metadata": {},
   "outputs": [
    {
     "data": {
      "text/html": [
       "<pre style=\"word-wrap: normal;white-space: pre;background: #fff0;line-height: 1.1;font-family: &quot;Courier New&quot;,Courier,monospace\">           ░ ┌───┐ ░       ░     ░    \n",
       "q_0: ──────░─┤ H ├─░───■───░─────░────\n",
       "     ┌───┐ ░ └───┘ ░ ┌─┴─┐ ░     ░ ┌─┐\n",
       "q_1: ┤ X ├─░───────░─┤ X ├─░──X──░─┤M├\n",
       "     └───┘ ░       ░ └───┘ ░  │  ░ └╥┘\n",
       "q_2: ──────░───────░───────░──X──░──╫─\n",
       "           ░       ░       ░     ░  ║ \n",
       "c: 1/═══════════════════════════════╩═\n",
       "                                    0 </pre>"
      ],
      "text/plain": [
       "           ░ ┌───┐ ░       ░     ░    \n",
       "q_0: ──────░─┤ H ├─░───■───░─────░────\n",
       "     ┌───┐ ░ └───┘ ░ ┌─┴─┐ ░     ░ ┌─┐\n",
       "q_1: ┤ X ├─░───────░─┤ X ├─░──X──░─┤M├\n",
       "     └───┘ ░       ░ └───┘ ░  │  ░ └╥┘\n",
       "q_2: ──────░───────░───────░──X──░──╫─\n",
       "           ░       ░       ░     ░  ║ \n",
       "c: 1/═══════════════════════════════╩═\n",
       "                                    0 "
      ]
     },
     "metadata": {},
     "output_type": "display_data"
    },
    {
     "data": {
      "text/latex": [
       "$\\displaystyle \\mathbf{Statevector\\;1}=\\begin{bmatrix}0 &0 &1 &0 &0 &0 &0 &0\\\\\\end{bmatrix}$"
      ],
      "text/plain": [
       "<IPython.core.display.Math object>"
      ]
     },
     "metadata": {},
     "output_type": "display_data"
    },
    {
     "data": {
      "text/latex": [
       "$\\displaystyle \\mathbf{Statevector\\;2}=\\begin{bmatrix}0 &0 &\\frac{1}{\\sqrt{2}} &\\frac{1}{\\sqrt{2}} &0 &0 &0 &0\\\\\\end{bmatrix}$"
      ],
      "text/plain": [
       "<IPython.core.display.Math object>"
      ]
     },
     "metadata": {},
     "output_type": "display_data"
    },
    {
     "data": {
      "text/latex": [
       "$\\displaystyle \\mathbf{Statevector\\;3}=\\begin{bmatrix}0 &\\frac{1}{\\sqrt{2}} &\\frac{1}{\\sqrt{2}} &0 &0 &0 &0 &0\\\\\\end{bmatrix}$"
      ],
      "text/plain": [
       "<IPython.core.display.Math object>"
      ]
     },
     "metadata": {},
     "output_type": "display_data"
    },
    {
     "data": {
      "text/latex": [
       "$\\displaystyle \\mathbf{Statevector\\;4}=\\begin{bmatrix}0 &\\frac{1}{\\sqrt{2}} &0 &0 &\\frac{1}{\\sqrt{2}} &0 &0 &0\\\\\\end{bmatrix}$"
      ],
      "text/plain": [
       "<IPython.core.display.Math object>"
      ]
     },
     "metadata": {},
     "output_type": "display_data"
    },
    {
     "data": {
      "image/png": "[encoded data removed]",
      "text/plain": [
       "<Figure size 700x500 with 1 Axes>"
      ]
     },
     "metadata": {},
     "output_type": "display_data"
    }
   ],
   "source": [
    "# This code was generated, improved and/or corrected with the assistance of ChatGPT4o and/or Claude 3.5.\n",
    "\n",
    "from qiskit import QuantumCircuit, transpile, assemble\n",
    "from qiskit.visualization import plot_distribution\n",
    "from qiskit_aer import AerSimulator\n",
    "from qiskit.quantum_info import Statevector\n",
    "from IPython.display import display\n",
    "from qis102_utils import as_latex\n",
    "\n",
    "# Create the full circuit\n",
    "qc = QuantumCircuit(3, 1)\n",
    "qc.x(1)\n",
    "qc.barrier()  # sv1\n",
    "qc.h(0)\n",
    "qc.barrier()  # sv2\n",
    "qc.cx(0, 1)\n",
    "qc.barrier()  # sv3\n",
    "qc.swap(1, 2)\n",
    "qc.barrier()  # sv4\n",
    "qc.measure(1, 0)\n",
    "\n",
    "# Display the circuit\n",
    "display(qc.draw(output=\"text\"))\n",
    "\n",
    "# Create circuits for each statevector\n",
    "qc1 = QuantumCircuit(3)\n",
    "qc1.x(1)\n",
    "qc1.save_statevector()\n",
    "\n",
    "qc2 = QuantumCircuit(3)\n",
    "qc2.x(1)\n",
    "qc2.h(0)\n",
    "qc2.save_statevector()\n",
    "\n",
    "qc3 = QuantumCircuit(3)\n",
    "qc3.x(1)\n",
    "qc3.h(0)\n",
    "qc3.cx(0, 1)\n",
    "qc3.save_statevector()\n",
    "\n",
    "qc4 = QuantumCircuit(3)\n",
    "qc4.x(1)\n",
    "qc4.h(0)\n",
    "qc4.cx(0, 1)\n",
    "qc4.swap(1, 2)\n",
    "qc4.save_statevector()\n",
    "\n",
    "# Simulate and get statevectors\n",
    "backend = AerSimulator()\n",
    "sv1 = backend.run(qc1).result().get_statevector()\n",
    "sv2 = backend.run(qc2).result().get_statevector()\n",
    "sv3 = backend.run(qc3).result().get_statevector()\n",
    "sv4 = backend.run(qc4).result().get_statevector()\n",
    "\n",
    "# Display statevectors\n",
    "display(as_latex(sv1, prefix=r\"\\mathbf{Statevector\\;1}=\"))\n",
    "display(as_latex(sv2, prefix=r\"\\mathbf{Statevector\\;2}=\"))\n",
    "display(as_latex(sv3, prefix=r\"\\mathbf{Statevector\\;3}=\"))\n",
    "display(as_latex(sv4, prefix=r\"\\mathbf{Statevector\\;4}=\"))\n",
    "\n",
    "# Run the full circuit for measurement results\n",
    "result = backend.run(qc).result()\n",
    "counts = result.get_counts(qc)\n",
    "display(plot_distribution(counts))"
   ]
  },
  {
   "cell_type": "markdown",
   "id": "5cb9159a-52f8-424c-b682-fa378f4f562d",
   "metadata": {},
   "source": [
    "# Cell 2\n",
    "\n",
    "# 1.) Explain the results shown in Statevector 4\n",
    "# 2.) Explain why is there a 100% chance of measuring only a value of 0 for the single classical bit?"
   ]
  },
  {
   "cell_type": "markdown",
   "id": "cee96a8b",
   "metadata": {},
   "source": [
    "\n",
    "\n",
    "## Explanation of Results:\n",
    "\n",
    "### 1. Statevector 4:\n",
    "\n",
    "\n",
    "### Initial State\n",
    "- The initial state of the qubits is $ |000\\rangle $, meaning all qubits are in the 0 state.\n",
    "\n",
    "### sv1\n",
    "- **X gate on $ q_1 $**:\n",
    "  - The X gate (also known as a NOT gate) is applied to $ q_1 $. This flips the state of $ q_1 $ from 0 to 1.\n",
    "  - The state of the system after this gate is $ |010\\rangle $.\n",
    "\n",
    "### sv2\n",
    "- **H gate on $ q_0 $**:\n",
    "  - The Hadamard (H) gate is applied to $ q_0 $. The H gate creates a superposition, changing the state of $ q_0 $ from $ |0\\rangle $ to $ \\frac{1}{\\sqrt{2}}(|0\\rangle + |1\\rangle) $.\n",
    "  - The state of the system after this gate is $ \\frac{1}{\\sqrt{2}}(|010\\rangle + |110\\rangle) $.\n",
    "\n",
    "### sv3\n",
    "- **CNOT (CX) gate with $ q_0 $ as control and $ q_1 $ as target**:\n",
    "  - The CNOT gate flips the state of the target qubit ($ q_1 $) if the control qubit ($ q_0 $) is in state 1.\n",
    "  - The state of the system after this gate is $ \\frac{1}{\\sqrt{2}}(|010\\rangle + |100\\rangle) $.\n",
    "\n",
    "### sv4\n",
    "- **SWAP gate between $ q_1 $ and $ q_2 $**:\n",
    "  - The SWAP gate exchanges the states of $ q_1 $ and $ q_2 $.\n",
    "  - The state of the system after this gate is $ \\frac{1}{\\sqrt{2}}(|000\\rangle + |101\\rangle) $.\n",
    "\n",
    "- **Measurement of $ q_2 $**:\n",
    "  - The measurement gate measures the state of $ q_2 $ and stores the result in the classical bit $ c $.\n",
    "  - Given the state $ \\frac{1}{\\sqrt{2}}(|000\\rangle + |101\\rangle) $, measuring $ q_2 $ will always yield 0 because $ q_2 $ is 0 in both terms of the superposition. Hence, the classical bit $ c $ will be set to 0 with 100% probability.\n",
    "\n",
    "### 2. 100% Chance of Measuring a Value of 0 for the Single Classical Bit:\n",
    "\n",
    "- The circuit starts by flipping $ q_1 $ with an X gate.\n",
    "- It then puts $ q_0 $ into superposition with an H gate.\n",
    "- A CNOT gate entangles $ q_0 $ and $ q_1 $.\n",
    "- A SWAP gate exchanges the states of $ q_1 $ and $ q_2 $.\n",
    "- Finally, $ q_2 $ is measured, and the result is stored in the classical bit $ c $.\n",
    "\n",
    "The measurement result is deterministic because, after the SWAP gate, $ q_2 $ is always in the state 0, leading to a 100% probability of measuring 0.\n",
    "\n",
    "\n"
   ]
  }
 ],
 "metadata": {
  "kernelspec": {
   "display_name": "Python 3 (ipykernel)",
   "language": "python",
   "name": "python3"
  },
  "language_info": {
   "codemirror_mode": {
    "name": "ipython",
    "version": 3
   },
   "file_extension": ".py",
   "mimetype": "text/x-python",
   "name": "python",
   "nbconvert_exporter": "python",
   "pygments_lexer": "ipython3",
   "version": "3.12.2"
  }
 },
 "nbformat": 4,
 "nbformat_minor": 5
}

{
 "cells": [
  {
   "cell_type": "code",
   "execution_count": 1,
   "metadata": {},
   "outputs": [
    {
     "data": {
      "image/png": "[encoded data removed]",
      "text/plain": [
       "<Figure size 640x480 with 1 Axes>"
      ]
     },
     "execution_count": 1,
     "metadata": {},
     "output_type": "execute_result"
    }
   ],
   "source": [
    "from qiskit import QuantumCircuit\n",
    "from qiskit_aer import AerSimulator\n",
    "from qiskit.visualization import plot_histogram\n",
    "\n",
    "# Create the quantum circuit\n",
    "qc = QuantumCircuit(7, 1)\n",
    "\n",
    "# Apply Hadamard gates\n",
    "for qubit in [0, 1, 3, 4]:\n",
    "    qc.h(qubit)\n",
    "\n",
    "# Apply CNOT gates\n",
    "qc.cx(0, 2)\n",
    "qc.cx(1, 2)\n",
    "qc.cx(3, 5)\n",
    "qc.cx(4, 5)\n",
    "\n",
    "# Apply final Toffoli (CCX) gate\n",
    "qc.ccx(2, 5, 6)\n",
    "\n",
    "# Measure qubit 6\n",
    "qc.measure(6, 0)\n",
    "\n",
    "# Execute the circuit on a simulator\n",
    "simulator = AerSimulator()\n",
    "job = simulator.run(qc, shots=1024)\n",
    "result = job.result()\n",
    "\n",
    "# Get the measurement counts\n",
    "counts = result.get_counts(qc)\n",
    "\n",
    "# Plot the histogram\n",
    "plot_histogram(counts)"
   ]
  },
  {
   "cell_type": "markdown",
   "metadata": {},
   "source": [
    "### Probability of $ q_6 = 1 $ Without Quantum Noise\n",
    "\n",
    "In an ideal scenario without quantum noise, the probability of measuring $ q_6 $ as 1 would be 0.25 or 25%. This can be explained as follows:\n",
    "\n",
    "1. **Superposition with Hadamard Gates**:\n",
    "   - Hadamard gates are applied to $ q_0 $, $ q_1 $, $ q_3 $, and $ q_4 $. These gates put each qubit in a superposition state, where each qubit has a 50% chance of being 0 or 1.\n",
    "   \n",
    "2. **Conditions for $ q_6 = 1 $**:\n",
    "   - For $ q_6 $ to be 1, both $ q_2 $ and $ q_5 $ need to be 1.\n",
    "   - $ q_2 $ is 1 only when both $ q_0 $ and $ q_1 $ are 1, which happens with a 25% probability ($ 0.5 \\times 0.5 $).\n",
    "   - $ q_5 $ is 1 only when both $ q_3 $ and $ q_4 $ are 1, which also happens with a 25% probability ($ 0.5 \\times 0.5 $).\n",
    "   \n",
    "3. **Independent Events**:\n",
    "   - The probability of both these independent events occurring simultaneously is:\n",
    "     $$\n",
    "     0.25 \\times 0.25 = 0.0625\n",
    "     $$\n",
    "   - Therefore, the probability of $ q_6 = 1 $ is 0.0625 or 6.25%.\n",
    "\n",
    "4. **Expected Outcome**:\n",
    "   - In a noiseless environment, you would expect to see $ q_6 = 1 $ in about 64 out of 1,024 shots (6.25% of the time).\n",
    "\n"
   ]
  },
  {
   "cell_type": "markdown",
   "metadata": {},
   "source": []
  }
 ],
 "metadata": {
  "kernelspec": {
   "display_name": "Python 3",
   "language": "python",
   "name": "python3"
  },
  "language_info": {
   "codemirror_mode": {
    "name": "ipython",
    "version": 3
   },
   "file_extension": ".py",
   "mimetype": "text/x-python",
   "name": "python",
   "nbconvert_exporter": "python",
   "pygments_lexer": "ipython3",
   "version": "3.12.2"
  }
 },
 "nbformat": 4,
 "nbformat_minor": 2
}

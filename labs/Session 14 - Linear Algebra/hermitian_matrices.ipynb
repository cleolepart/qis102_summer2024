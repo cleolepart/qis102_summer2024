{
 "cells": [
  {
   "cell_type": "markdown",
   "metadata": {},
   "source": [
    "*This code was generated, improved and/or corrected with the assistance of ChatGPT4o.*"
   ]
  },
  {
   "cell_type": "markdown",
   "metadata": {},
   "source": [
    "The cells of this notebook will demonstrate that the inverse of a Hermitian matrix is also Hermitian, and that raising a Hermitian matrix to an integer exponent yields another Hermitian matrix."
   ]
  },
  {
   "cell_type": "markdown",
   "metadata": {},
   "source": [
    "# Cell 1 - The inverse of a Hermitian matrix is also Hermitian\n"
   ]
  },
  {
   "cell_type": "code",
   "execution_count": 1,
   "metadata": {},
   "outputs": [
    {
     "name": "stdout",
     "output_type": "stream",
     "text": [
      "Is H Hermitian? True\n",
      "Is the inverse of H Hermitian? True\n",
      "Hermitian matrix H:\n",
      "[[2.+0.j 2.-1.j]\n",
      " [2.+1.j 3.+0.j]]\n",
      "Inverse of Hermitian matrix H:\n",
      "[[ 3.+2.22044605e-17j -2.+1.00000000e+00j]\n",
      " [-2.-1.00000000e+00j  2.+2.22044605e-17j]]\n"
     ]
    }
   ],
   "source": [
    "# Cell 1\n",
    "import numpy as np\n",
    "\n",
    "# Define a Hermitian matrix\n",
    "H = np.array([\n",
    "    [2, 2-1j],\n",
    "    [2+1j, 3]\n",
    "])\n",
    "\n",
    "# Check if H is Hermitian\n",
    "is_hermitian = np.allclose(H, H.conj().T)\n",
    "print(\"Is H Hermitian?\", is_hermitian)\n",
    "\n",
    "# Compute the inverse of the Hermitian matrix\n",
    "H_inv = np.linalg.inv(H)\n",
    "\n",
    "# Check if the inverse is also Hermitian\n",
    "is_inv_hermitian = np.allclose(H_inv, H_inv.conj().T)\n",
    "print(\"Is the inverse of H Hermitian?\", is_inv_hermitian)\n",
    "\n",
    "# Display the matrices for visual verification\n",
    "print(\"Hermitian matrix H:\")\n",
    "print(H)\n",
    "print(\"Inverse of Hermitian matrix H:\")\n",
    "print(H_inv)\n"
   ]
  },
  {
   "cell_type": "markdown",
   "metadata": {},
   "source": [
    "# Cell 2 - A Hermitian matrix raised to an integer exponent yields another Hermitian matrix"
   ]
  },
  {
   "cell_type": "code",
   "execution_count": 2,
   "metadata": {},
   "outputs": [
    {
     "name": "stdout",
     "output_type": "stream",
     "text": [
      "Is H Hermitian? True\n",
      "Is H^3 Hermitian? True\n",
      "H^3:\n",
      "[[43. +0.j 48.-24.j]\n",
      " [48.+24.j 67. +0.j]]\n"
     ]
    }
   ],
   "source": [
    "# Cell 2\n",
    "import numpy as np\n",
    "\n",
    "# Define a Hermitian matrix\n",
    "H = np.array([\n",
    "    [2, 2-1j],\n",
    "    [2+1j, 3]\n",
    "])\n",
    "\n",
    "# Check if H is Hermitian\n",
    "is_hermitian = np.allclose(H, H.conj().T)\n",
    "print(\"Is H Hermitian?\", is_hermitian)\n",
    "\n",
    "# Raise the Hermitian matrix to an integer exponent\n",
    "exponent = 3\n",
    "H_power = np.linalg.matrix_power(H, exponent)\n",
    "\n",
    "# Check if the result is Hermitian\n",
    "is_power_hermitian = np.allclose(H_power, H_power.conj().T)\n",
    "print(f\"Is H^{exponent} Hermitian?\", is_power_hermitian)\n",
    "\n",
    "# Display the matrices for visual verification\n",
    "print(f\"H^{exponent}:\")\n",
    "print(H_power)\n"
   ]
  }
 ],
 "metadata": {
  "kernelspec": {
   "display_name": "Python 3",
   "language": "python",
   "name": "python3"
  },
  "language_info": {
   "codemirror_mode": {
    "name": "ipython",
    "version": 3
   },
   "file_extension": ".py",
   "mimetype": "text/x-python",
   "name": "python",
   "nbconvert_exporter": "python",
   "pygments_lexer": "ipython3",
   "version": "3.12.2"
  }
 },
 "nbformat": 4,
 "nbformat_minor": 2
}

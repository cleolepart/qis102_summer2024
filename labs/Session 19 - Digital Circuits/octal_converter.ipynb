{
 "cells": [
  {
   "cell_type": "markdown",
   "metadata": {},
   "source": [
    "#### octal_converter.ipynb\n",
    "### ChatGPT4o was used to write documentation for this notebook."
   ]
  },
  {
   "cell_type": "markdown",
   "metadata": {},
   "source": [
    "# Cell 1: Convert octal 2323 to decimal by looping"
   ]
  },
  {
   "cell_type": "code",
   "execution_count": 1,
   "metadata": {},
   "outputs": [
    {
     "name": "stdout",
     "output_type": "stream",
     "text": [
      "Octal: 2323\n",
      "Decimal: 1235\n"
     ]
    }
   ],
   "source": [
    "# Define the octal number as an integer\n",
    "octal_number = 2323\n",
    "\n",
    "# Convert the octal number to a string for easy digit extraction\n",
    "octal_str = str(octal_number)\n",
    "\n",
    "# Initialize the decimal number to 0\n",
    "decimal_number = 0\n",
    "\n",
    "# Define the base for octal numbers\n",
    "base = 8\n",
    "\n",
    "# Loop through each digit of the octal number from left to right\n",
    "for i in range(len(octal_str)):\n",
    "    # Convert the digit to an integer and calculate its contribution to the decimal value\n",
    "    decimal_number += int(octal_str[i]) * (base ** (len(octal_str) - 1 - i))\n",
    "\n",
    "# Display the original octal number and the resulting decimal number\n",
    "print(f\"Octal: {octal_number}\")\n",
    "print(f\"Decimal: {decimal_number}\")\n"
   ]
  },
  {
   "cell_type": "markdown",
   "metadata": {},
   "source": [
    "# Cell 2: Convert the decimal number from cell 1 back to octal by looping"
   ]
  },
  {
   "cell_type": "code",
   "execution_count": 3,
   "metadata": {},
   "outputs": [
    {
     "name": "stdout",
     "output_type": "stream",
     "text": [
      "Decimal: 1235\n",
      "Octal: 2323\n"
     ]
    }
   ],
   "source": [
    "# Define the decimal number obtained in cell 1\n",
    "decimal_number = 1235\n",
    "\n",
    "# Copy the decimal number to another variable for manipulation\n",
    "decimal_copy = decimal_number\n",
    "\n",
    "# Initialize the octal number as an empty string\n",
    "octal_number = \"\"\n",
    "\n",
    "# Loop to convert the decimal number to octal\n",
    "while decimal_copy > 0:\n",
    "    # Prepend the remainder of the division by 8 to the octal number string\n",
    "    octal_number = str(decimal_copy % 8) + octal_number\n",
    "    \n",
    "    # Update the decimal copy by integer division by 8\n",
    "    decimal_copy //= 8\n",
    "\n",
    "# Display the original decimal number and the resulting octal number\n",
    "print(f\"Decimal: {decimal_number}\")\n",
    "print(f\"Octal: {octal_number}\")\n"
   ]
  },
  {
   "cell_type": "markdown",
   "metadata": {},
   "source": [
    "# Cell 3: Convert octal 2323 to decimal without looping"
   ]
  },
  {
   "cell_type": "code",
   "execution_count": 4,
   "metadata": {},
   "outputs": [
    {
     "name": "stdout",
     "output_type": "stream",
     "text": [
      "Octal: 2323\n",
      "Decimal: 1235\n"
     ]
    }
   ],
   "source": [
    "# Define the octal number as an integer\n",
    "octal_number = 2323\n",
    "\n",
    "# Use Python's built-in int() function to directly convert the octal number to decimal\n",
    "# The second argument specifies the base of the input number\n",
    "decimal_number = int(str(octal_number), 8)\n",
    "\n",
    "# Display the original octal number and the resulting decimal number\n",
    "print(f\"Octal: {octal_number}\")\n",
    "print(f\"Decimal: {decimal_number}\")\n"
   ]
  },
  {
   "cell_type": "markdown",
   "metadata": {},
   "source": [
    "# Cell 4: Convert the decimal number from cell 3 back to octal without looping"
   ]
  },
  {
   "cell_type": "code",
   "execution_count": 6,
   "metadata": {},
   "outputs": [
    {
     "name": "stdout",
     "output_type": "stream",
     "text": [
      "Decimal: 1235\n",
      "Octal: 2323\n"
     ]
    }
   ],
   "source": [
    "# Define the decimal number obtained in cell 3\n",
    "decimal_number = 1235\n",
    "\n",
    "# Use Python's built-in oct() function to directly convert the decimal number to octal\n",
    "# The oct() function returns a string prefixed with '0o', so we remove the prefix using replace()\n",
    "octal_number = oct(decimal_number).replace(\"0o\", \"\")\n",
    "\n",
    "# Display the original decimal number and the resulting octal number\n",
    "print(f\"Decimal: {decimal_number}\")\n",
    "print(f\"Octal: {octal_number}\")\n"
   ]
  }
 ],
 "metadata": {
  "kernelspec": {
   "display_name": "Python 3",
   "language": "python",
   "name": "python3"
  },
  "language_info": {
   "codemirror_mode": {
    "name": "ipython",
    "version": 3
   },
   "file_extension": ".py",
   "mimetype": "text/x-python",
   "name": "python",
   "nbconvert_exporter": "python",
   "pygments_lexer": "ipython3",
   "version": "3.12.2"
  }
 },
 "nbformat": 4,
 "nbformat_minor": 2
}

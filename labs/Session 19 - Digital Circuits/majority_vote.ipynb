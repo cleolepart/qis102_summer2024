{
 "cells": [
  {
   "cell_type": "markdown",
   "metadata": {},
   "source": [
    "#### majority_vote.ipynb\n",
    "##### This code was generated, improved and/or corrected with the assistance of ChatGPT4o."
   ]
  },
  {
   "cell_type": "markdown",
   "metadata": {},
   "source": [
    "# Cell 1: Declare arrays"
   ]
  },
  {
   "cell_type": "code",
   "execution_count": 2,
   "metadata": {},
   "outputs": [],
   "source": [
    "import numpy as np\n",
    "\n",
    "# Define the input permutations\n",
    "inputs = np.array([\n",
    "    [0, 0, 0],\n",
    "    [0, 0, 1],\n",
    "    [0, 1, 0],\n",
    "    [0, 1, 1],\n",
    "    [1, 0, 0],\n",
    "    [1, 0, 1],\n",
    "    [1, 1, 0],\n",
    "    [1, 1, 1]\n",
    "])\n",
    "\n",
    "# Initialize an array to store the output\n",
    "outputs = np.zeros(8, dtype=int)\n"
   ]
  },
  {
   "cell_type": "markdown",
   "metadata": {},
   "source": [
    "# Cell 2: Implement Logic Circuit and Display Truth Table"
   ]
  },
  {
   "cell_type": "code",
   "execution_count": 3,
   "metadata": {},
   "outputs": [
    {
     "name": "stdout",
     "output_type": "stream",
     "text": [
      "Truth Table for Majority Vote Circuit:\n",
      "A B C | V\n",
      "------|--\n",
      "0 0 0 | 0\n",
      "0 0 1 | 0\n",
      "0 1 0 | 0\n",
      "0 1 1 | 1\n",
      "1 0 0 | 0\n",
      "1 0 1 | 1\n",
      "1 1 0 | 1\n",
      "1 1 1 | 1\n"
     ]
    }
   ],
   "source": [
    "# Define the logic gates\n",
    "def AND(*args):\n",
    "    return np.all(args)\n",
    "\n",
    "def OR(*args):\n",
    "    return np.any(args)\n",
    "\n",
    "def NOT(x):\n",
    "    return np.logical_not(x).astype(int)\n",
    "\n",
    "# Calculate the output for each input permutation\n",
    "for i, (A, B, C) in enumerate(inputs):\n",
    "    majority = OR(\n",
    "        AND(A, B, NOT(C)),\n",
    "        AND(A, NOT(B), C),\n",
    "        AND(NOT(A), B, C),\n",
    "        AND(A, B, C)\n",
    "    )\n",
    "    outputs[i] = majority\n",
    "\n",
    "# Display the truth table\n",
    "truth_table = np.hstack((inputs, outputs.reshape(-1, 1)))\n",
    "print(\"Truth Table for Majority Vote Circuit:\")\n",
    "print(\"A B C | V\")\n",
    "print(\"------|--\")\n",
    "for row in truth_table:\n",
    "    print(\" \".join(map(str, row[:3])), \"|\", row[3])\n"
   ]
  }
 ],
 "metadata": {
  "kernelspec": {
   "display_name": "Python 3",
   "language": "python",
   "name": "python3"
  },
  "language_info": {
   "codemirror_mode": {
    "name": "ipython",
    "version": 3
   },
   "file_extension": ".py",
   "mimetype": "text/x-python",
   "name": "python",
   "nbconvert_exporter": "python",
   "pygments_lexer": "ipython3",
   "version": "3.12.2"
  }
 },
 "nbformat": 4,
 "nbformat_minor": 2
}
